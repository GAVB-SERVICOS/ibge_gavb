{
 "cells": [
  {
   "cell_type": "code",
   "execution_count": null,
   "id": "8255fb92",
   "metadata": {},
   "outputs": [],
   "source": [
    "!pip install -e ./\n"
   ]
  },
  {
   "cell_type": "code",
   "execution_count": null,
   "id": "16986cf2",
   "metadata": {},
   "outputs": [],
   "source": [
    "from ibge_gavb.localidades import *"
   ]
  },
  {
   "cell_type": "code",
   "execution_count": null,
   "id": "2cf25691",
   "metadata": {},
   "outputs": [],
   "source": [
    "data = Estados()"
   ]
  },
  {
   "cell_type": "code",
   "execution_count": null,
   "id": "a11d882c",
   "metadata": {},
   "outputs": [],
   "source": [
    "import requests\n",
    "import urllib3\n",
    "import ssl\n",
    "import json\n",
    "\n",
    "\n",
    "class CustomHttpAdapter (requests.adapters.HTTPAdapter):\n",
    "    # \"Transport adapter\" that allows us to use custom ssl_context.\n",
    "\n",
    "    def __init__(self, ssl_context=None, **kwargs):\n",
    "        self.ssl_context = ssl_context\n",
    "        super().__init__(**kwargs)\n",
    "\n",
    "    def init_poolmanager(self, connections, maxsize, block=False):\n",
    "        self.poolmanager = urllib3.poolmanager.PoolManager(\n",
    "            num_pools=connections, maxsize=maxsize,\n",
    "            block=block, ssl_context=self.ssl_context)\n",
    "\n",
    "\n",
    "def get_legacy_session():\n",
    "    ctx = ssl.create_default_context(ssl.Purpose.SERVER_AUTH)\n",
    "    ctx.options |= 0x4  # OP_LEGACY_SERVER_CONNECT\n",
    "    session = requests.session()\n",
    "    session.mount('https://', CustomHttpAdapter(ctx))\n",
    "    return session"
   ]
  },
  {
   "cell_type": "code",
   "execution_count": null,
   "id": "709c0ecf",
   "metadata": {},
   "outputs": [],
   "source": [
    "url = 'https://servicodados.ibge.gov.br/api/v1/localidades/regioes'\n",
    "request = get_legacy_session().get(url)\n",
    "json_ibge = json.loads(request.content.decode('utf-8'))"
   ]
  },
  {
   "cell_type": "code",
   "execution_count": null,
   "id": "1684cd52",
   "metadata": {},
   "outputs": [],
   "source": [
    "import requests\n",
    "import urllib3\n",
    "import json\n",
    "\n",
    "URL = 'https://servicodados.ibge.gov.br/api/v1/localidades/regioes'\n",
    "\n",
    "class TestAdapter(requests.adapters.HTTPAdapter):\n",
    "    def __init__(self, response):\n",
    "        self._response = response\n",
    "        super(TestAdapter, self).__init__()\n",
    "\n",
    "    def send(self, request, *args, **kwargs):\n",
    "        return self.build_response(request, self._response)\n",
    "\n",
    "resp = urllib3\\\n",
    "    .HTTPResponse(body=json.dumps({'results': results}), status=200,\n",
    "                  headers={'content-type': 'application/json'})\n",
    "adapter = TestAdapter(resp)\n",
    "session = requests.Session()\n",
    "session.mount(URL, adapter)\n",
    "\n",
    "response = session.post(URL)\n",
    "response.json()"
   ]
  },
  {
   "cell_type": "code",
   "execution_count": 1,
   "id": "2ae5c252",
   "metadata": {},
   "outputs": [],
   "source": [
    "\"\"\"\n",
    "API do IBGE\n",
    "https://servicodados.ibge.gov.br/api/docs/\n",
    "\n",
    "\"\"\"\n",
    "\n",
    "import requests\n",
    "import json\n",
    "import urllib3\n",
    "import ssl\n",
    "\n",
    "\n",
    "headers = {\n",
    "    \"Content-Type\": \"application/json;charset=UTF-8\",\n",
    "    \"User-Agent\": \"ibge_gavb.py - https://github.com/GAVB-SERVICOS/ibge_gavb\",\n",
    "    \"Accept\": \"application/json, text/plain, */*\",\n",
    "    \"Accept-Encoding\": \"gzip, deflate, br\",\n",
    "    \"Accept-Language\": \"pt-BR,pt;q=0.9,en-US;q=0.8,en;q=0.7\",\n",
    "    \"Connection\": \"keep-alive\",\n",
    "}\n",
    "\n",
    "\n",
    "class CustomHttpAdapter(requests.adapters.HTTPAdapter):\n",
    "    \"\"\"\n",
    "    Essa classe é responsável por transportar o adapter que permite usar\n",
    "    o ssl_context padrão evitando o erro unsafe legacy renegotiation disabled.\n",
    "    \"\"\"\n",
    "\n",
    "    def __init__(self, **kwargs):\n",
    "        \"\"\"\n",
    "        Inicia o ssl_context.\n",
    "\n",
    "        :param Kwargs: Parâmetro extra\n",
    "        :type: any\n",
    "\n",
    "        \"\"\"\n",
    "        ctx = ssl.create_default_context(ssl.Purpose.SERVER_AUTH)\n",
    "        ctx.options |= 2186412244  # 0x4 OP_LEGACY_SERVER_CONNECT\n",
    "        self.ssl_context = ctx\n",
    "        super().__init__(**kwargs)\n",
    "\n",
    "    def init_poolmanager(self, connections: int, maxsize: int, block: bool = False):\n",
    "        \"\"\"\n",
    "        Configura a PoolManager.\n",
    "\n",
    "        :param conections: Número de conexões pool para armazenar\n",
    "                           em cache antes de descartar o mínimo.\n",
    "        :type: int\n",
    "        :param maxsize: Método da classe PoolManager.\n",
    "        :type: int\n",
    "        :param block: Método da classe PoolManager.\n",
    "        :type: bool\n",
    "\n",
    "        \"\"\"\n",
    "\n",
    "        self.poolmanager = urllib3.poolmanager.PoolManager(\n",
    "            num_pools=connections,\n",
    "            maxsize=maxsize,\n",
    "            block=block,\n",
    "            ssl_context=self.ssl_context,\n",
    "        )\n",
    "\n",
    "\n",
    "def get_legacy_session():\n",
    "    \"\"\"\n",
    "    Função responsável por abrir a sessão com o certificado\n",
    "    ssl criando uma autenticação.\n",
    "    \"\"\"\n",
    "\n",
    "    session = requests.session()\n",
    "    session.mount(\"https://\", CustomHttpAdapter())\n",
    "    return session"
   ]
  },
  {
   "cell_type": "code",
   "execution_count": null,
   "id": "c2aab68b",
   "metadata": {},
   "outputs": [],
   "source": []
  },
  {
   "cell_type": "code",
   "execution_count": null,
   "id": "2fdc3fd1",
   "metadata": {},
   "outputs": [],
   "source": []
  },
  {
   "cell_type": "code",
   "execution_count": 33,
   "id": "db8085f7",
   "metadata": {},
   "outputs": [],
   "source": [
    "class Municipio(object):\n",
    "    \"\"\"\n",
    "    Classe que conecta a API IBGE acessando o arquivo\n",
    "    json trazendo o conteúdo do Município específico.\n",
    "    \"\"\"\n",
    "\n",
    "    def __init__(self, codigo_ibge:str=None):\n",
    "        \"\"\"\n",
    "        Faz o request e gera conteúdo em json.\n",
    "        :param codigo_ibge: Número do código do município.\n",
    "        :type: str\n",
    "        \"\"\"\n",
    "        url = \"https://servicodados.ibge.gov.br/api/v1/localidades/municipios/{}\"\n",
    "        # request = requests.get(url.format(codigo_ibge), headers=headers)\n",
    "        request = get_legacy_session().get(url.format(codigo_ibge), headers=headers)\n",
    "        self.json_ibge = json.loads(request.content.decode(\"utf-8\"))\n",
    "\n",
    "    def json(self):\n",
    "        \"\"\"\n",
    "        Retorna o conteúdo.\n",
    "\n",
    "        :return: String com o conteúdo\n",
    "        :rtype: str\n",
    "        \"\"\"\n",
    "        return self.json_ibge\n",
    "\n",
    "    def __repr__(self):\n",
    "        \"\"\"\n",
    "        Representação da api em json.\n",
    "\n",
    "        :return: String com o conteúdo\n",
    "        :rtype: str\n",
    "        \"\"\"\n",
    "        return repr(str(self.json()))\n",
    "\n",
    "    def count(self):\n",
    "        \"\"\"\n",
    "        Retorna o tamanho do conteúdo.\n",
    "\n",
    "        :return: Inteiro reprentando o tamanho do json. \n",
    "        :rtype: int\n",
    "        \"\"\"\n",
    "        return int(len(self.json_ibge) / 3)\n",
    "\n",
    "    def getId(self):\n",
    "        \"\"\"\n",
    "        Retorna os IDs.\n",
    "\n",
    "        :return: Lista com os ids \n",
    "        :rtype: list\n",
    "        \"\"\"\n",
    "        return self.json_ibge[\"id\"]\n",
    "\n",
    "    def getNome(self):\n",
    "        return self.json_ibge[\"nome\"]\n",
    "\n",
    "    def getDescricaoUF(self):\n",
    "        return self.json_ibge[\"microrregiao\"][\"mesorregiao\"][\"UF\"][\"nome\"]\n",
    "\n",
    "    def getUF(self):\n",
    "        return self.json_ibge[\"microrregiao\"][\"mesorregiao\"][\"UF\"][\"sigla\"]"
   ]
  },
  {
   "cell_type": "code",
   "execution_count": 34,
   "id": "57f719eb",
   "metadata": {},
   "outputs": [],
   "source": [
    "data = Municipio('5221858')"
   ]
  },
  {
   "cell_type": "code",
   "execution_count": 39,
   "id": "965b1f95",
   "metadata": {},
   "outputs": [
    {
     "data": {
      "text/plain": [
       "'Goiás'"
      ]
     },
     "execution_count": 39,
     "metadata": {},
     "output_type": "execute_result"
    }
   ],
   "source": [
    "data.getDescricaoUF()\n"
   ]
  },
  {
   "cell_type": "code",
   "execution_count": null,
   "id": "04888b10",
   "metadata": {},
   "outputs": [],
   "source": []
  },
  {
   "cell_type": "code",
   "execution_count": null,
   "id": "abb950fb",
   "metadata": {},
   "outputs": [],
   "source": []
  }
 ],
 "metadata": {
  "kernelspec": {
   "display_name": "Python 3 (ipykernel)",
   "language": "python",
   "name": "python3"
  },
  "language_info": {
   "codemirror_mode": {
    "name": "ipython",
    "version": 3
   },
   "file_extension": ".py",
   "mimetype": "text/x-python",
   "name": "python",
   "nbconvert_exporter": "python",
   "pygments_lexer": "ipython3",
   "version": "3.11.1"
  },
  "vscode": {
   "interpreter": {
    "hash": "f016af4ad04f6078b7048870f1885fb05376a5d2a1081e96d7a908fd2772f6e1"
   }
  }
 },
 "nbformat": 4,
 "nbformat_minor": 5
}
