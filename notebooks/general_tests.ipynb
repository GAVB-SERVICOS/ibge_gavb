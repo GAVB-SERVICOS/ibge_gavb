{
 "cells": [
  {
   "cell_type": "markdown",
   "metadata": {},
   "source": [
    "# Pediction test"
   ]
  },
  {
   "cell_type": "code",
   "execution_count": 35,
   "metadata": {},
   "outputs": [],
   "source": [
    "import json\n",
    "import numpy as np\n",
    "from google.cloud import aiplatform\n",
    "from google.cloud import bigquery\n",
    "from google.api import httpbody_pb2"
   ]
  },
  {
   "cell_type": "code",
   "execution_count": 4,
   "metadata": {},
   "outputs": [],
   "source": [
    "REGION = \"us-central1\"\n",
    "PROJECT = 'gavb-poc-bu-mlops-f-store'\n",
    "DATASET = 'vertexai_teste'\n",
    "TABLE = 'iris-vertexai_transformed'"
   ]
  },
  {
   "cell_type": "code",
   "execution_count": 4,
   "metadata": {},
   "outputs": [
    {
     "data": {
      "text/html": [
       "<div>\n",
       "<style scoped>\n",
       "    .dataframe tbody tr th:only-of-type {\n",
       "        vertical-align: middle;\n",
       "    }\n",
       "\n",
       "    .dataframe tbody tr th {\n",
       "        vertical-align: top;\n",
       "    }\n",
       "\n",
       "    .dataframe thead th {\n",
       "        text-align: right;\n",
       "    }\n",
       "</style>\n",
       "<table border=\"1\" class=\"dataframe\">\n",
       "  <thead>\n",
       "    <tr style=\"text-align: right;\">\n",
       "      <th></th>\n",
       "      <th>SepalLengthCm</th>\n",
       "      <th>SepalWidthCm</th>\n",
       "      <th>PetalLengthCm</th>\n",
       "      <th>PetalWidthCm</th>\n",
       "    </tr>\n",
       "  </thead>\n",
       "  <tbody>\n",
       "    <tr>\n",
       "      <th>0</th>\n",
       "      <td>-0.985734</td>\n",
       "      <td>0.267498</td>\n",
       "      <td>-1.199040</td>\n",
       "      <td>-0.999564</td>\n",
       "    </tr>\n",
       "    <tr>\n",
       "      <th>1</th>\n",
       "      <td>-1.227138</td>\n",
       "      <td>-0.316134</td>\n",
       "      <td>-1.311450</td>\n",
       "      <td>-1.447966</td>\n",
       "    </tr>\n",
       "    <tr>\n",
       "      <th>2</th>\n",
       "      <td>-0.502925</td>\n",
       "      <td>2.893844</td>\n",
       "      <td>-1.367655</td>\n",
       "      <td>-1.335865</td>\n",
       "    </tr>\n",
       "    <tr>\n",
       "      <th>3</th>\n",
       "      <td>-1.589245</td>\n",
       "      <td>-0.024318</td>\n",
       "      <td>-1.367655</td>\n",
       "      <td>-1.335865</td>\n",
       "    </tr>\n",
       "    <tr>\n",
       "      <th>4</th>\n",
       "      <td>0.221287</td>\n",
       "      <td>-1.191583</td>\n",
       "      <td>0.093675</td>\n",
       "      <td>-0.102759</td>\n",
       "    </tr>\n",
       "  </tbody>\n",
       "</table>\n",
       "</div>"
      ],
      "text/plain": [
       "   SepalLengthCm  SepalWidthCm  PetalLengthCm  PetalWidthCm\n",
       "0      -0.985734      0.267498      -1.199040     -0.999564\n",
       "1      -1.227138     -0.316134      -1.311450     -1.447966\n",
       "2      -0.502925      2.893844      -1.367655     -1.335865\n",
       "3      -1.589245     -0.024318      -1.367655     -1.335865\n",
       "4       0.221287     -1.191583       0.093675     -0.102759"
      ]
     },
     "execution_count": 4,
     "metadata": {},
     "output_type": "execute_result"
    }
   ],
   "source": [
    "# Collecting some example data\n",
    "client = bigquery.Client(project=PROJECT)\n",
    "pred_ = client.query(query=f'SELECT * FROM `{PROJECT}.{DATASET}.{TABLE}` WHERE splits=\"VAL\" LIMIT 5').result().to_dataframe()\n",
    "pred_ = pred_.drop(['Species','splits'], axis=1)\n",
    "pred_.head()"
   ]
  },
  {
   "cell_type": "code",
   "execution_count": 27,
   "metadata": {},
   "outputs": [],
   "source": [
    "pred = pred_.to_dict(orient='records')\n",
    "pred = [list(preds.values()) for preds in pred]\n",
    "#pred = list(pred.values())\n"
   ]
  },
  {
   "cell_type": "code",
   "execution_count": 7,
   "metadata": {},
   "outputs": [
    {
     "name": "stdout",
     "output_type": "stream",
     "text": [
      "vertexai-test-endpoint\n",
      "projects/52716924283/locations/us-central1/endpoints/5413493877866758144\n"
     ]
    }
   ],
   "source": [
    "# List Endpoint\n",
    "for e in aiplatform.Endpoint.list():\n",
    "    if e.display_name.startswith('vertexai'): endpoint = e\n",
    "\n",
    "\n",
    "print(endpoint.display_name)\n",
    "print(endpoint.resource_name)\n"
   ]
  },
  {
   "cell_type": "code",
   "execution_count": 8,
   "metadata": {},
   "outputs": [],
   "source": [
    "# Prediction service Client\n",
    "client_options = {\"api_endpoint\": f\"{REGION}-aiplatform.googleapis.com\"}\n",
    "predictor = aiplatform.gapic.PredictionServiceClient(client_options = client_options)"
   ]
  },
  {
   "cell_type": "code",
   "execution_count": 32,
   "metadata": {},
   "outputs": [],
   "source": [
    "# \n",
    "instances = {\"instances\": pred, \"signature_name\":\"predict\"}\n",
    "http_body = httpbody_pb2.HttpBody(data = json.dumps(instances).encode(\"utf-8\"), content_type=\"application/json\")"
   ]
  },
  {
   "cell_type": "code",
   "execution_count": 34,
   "metadata": {},
   "outputs": [
    {
     "data": {
      "text/plain": [
       "{'predictions': [0, 0, 0, 0, 1]}"
      ]
     },
     "execution_count": 34,
     "metadata": {},
     "output_type": "execute_result"
    }
   ],
   "source": [
    "# Prediction\n",
    "prediction = predictor.raw_predict(endpoint=endpoint.resource_name, http_body=http_body)\n",
    "json.loads(prediction.data)"
   ]
  },
  {
   "cell_type": "code",
   "execution_count": null,
   "metadata": {},
   "outputs": [],
   "source": []
  },
  {
   "cell_type": "markdown",
   "metadata": {},
   "source": [
    "# Test Monitoring - example pipeline"
   ]
  },
  {
   "cell_type": "code",
   "execution_count": 35,
   "metadata": {},
   "outputs": [],
   "source": [
    "# data client\n",
    "client = bigquery.Client(project=PROJECT)\n",
    "    \n",
    "# Coletando dados    \n",
    "table = f\"{PROJECT}.{DATASET}.{TABLE}\"\n",
    "\n",
    "data = (\n",
    "    client\n",
    "    .query(f\"SELECT * FROM `{table}` WHERE splits = 'TRAIN'\")\n",
    "    .result()\n",
    "    .to_dataframe()\n",
    ")\n",
    "\n",
    "data = data.drop('splits', axis=1)\n",
    "\n",
    "\n",
    "data.to_gbq(destination_table=f\"{PROJECT}.{DATASET}.train_transformed\", project_id=PROJECT, if_exists=\"replace\")"
   ]
  },
  {
   "cell_type": "code",
   "execution_count": 36,
   "metadata": {},
   "outputs": [
    {
     "data": {
      "text/html": [
       "<div>\n",
       "<style scoped>\n",
       "    .dataframe tbody tr th:only-of-type {\n",
       "        vertical-align: middle;\n",
       "    }\n",
       "\n",
       "    .dataframe tbody tr th {\n",
       "        vertical-align: top;\n",
       "    }\n",
       "\n",
       "    .dataframe thead th {\n",
       "        text-align: right;\n",
       "    }\n",
       "</style>\n",
       "<table border=\"1\" class=\"dataframe\">\n",
       "  <thead>\n",
       "    <tr style=\"text-align: right;\">\n",
       "      <th></th>\n",
       "      <th>SepalLengthCm</th>\n",
       "      <th>SepalWidthCm</th>\n",
       "      <th>PetalLengthCm</th>\n",
       "      <th>PetalWidthCm</th>\n",
       "      <th>Species</th>\n",
       "    </tr>\n",
       "  </thead>\n",
       "  <tbody>\n",
       "    <tr>\n",
       "      <th>0</th>\n",
       "      <td>-1.167448</td>\n",
       "      <td>0.178659</td>\n",
       "      <td>-1.350002</td>\n",
       "      <td>-1.508552</td>\n",
       "      <td>0</td>\n",
       "    </tr>\n",
       "    <tr>\n",
       "      <th>1</th>\n",
       "      <td>-0.794025</td>\n",
       "      <td>2.510627</td>\n",
       "      <td>-1.350002</td>\n",
       "      <td>-1.508552</td>\n",
       "      <td>0</td>\n",
       "    </tr>\n",
       "    <tr>\n",
       "      <th>2</th>\n",
       "      <td>-1.042973</td>\n",
       "      <td>0.878249</td>\n",
       "      <td>-1.350002</td>\n",
       "      <td>-1.372310</td>\n",
       "      <td>0</td>\n",
       "    </tr>\n",
       "    <tr>\n",
       "      <th>3</th>\n",
       "      <td>-0.794025</td>\n",
       "      <td>1.111446</td>\n",
       "      <td>-1.350002</td>\n",
       "      <td>-1.372310</td>\n",
       "      <td>0</td>\n",
       "    </tr>\n",
       "    <tr>\n",
       "      <th>4</th>\n",
       "      <td>-0.669551</td>\n",
       "      <td>1.577840</td>\n",
       "      <td>-1.350002</td>\n",
       "      <td>-1.372310</td>\n",
       "      <td>0</td>\n",
       "    </tr>\n",
       "  </tbody>\n",
       "</table>\n",
       "</div>"
      ],
      "text/plain": [
       "   SepalLengthCm  SepalWidthCm  PetalLengthCm  PetalWidthCm  Species\n",
       "0      -1.167448      0.178659      -1.350002     -1.508552        0\n",
       "1      -0.794025      2.510627      -1.350002     -1.508552        0\n",
       "2      -1.042973      0.878249      -1.350002     -1.372310        0\n",
       "3      -0.794025      1.111446      -1.350002     -1.372310        0\n",
       "4      -0.669551      1.577840      -1.350002     -1.372310        0"
      ]
     },
     "execution_count": 36,
     "metadata": {},
     "output_type": "execute_result"
    }
   ],
   "source": [
    "data.head()"
   ]
  },
  {
   "cell_type": "markdown",
   "metadata": {},
   "source": [
    "### Mudando a distribuição dos dados."
   ]
  },
  {
   "cell_type": "code",
   "execution_count": 37,
   "metadata": {},
   "outputs": [
    {
     "data": {
      "text/plain": [
       "(50, 4)"
      ]
     },
     "execution_count": 37,
     "metadata": {},
     "output_type": "execute_result"
    }
   ],
   "source": [
    "sample = data.head(50)\n",
    "sample = sample.drop('Species', axis=1)\n",
    "sample.shape"
   ]
  },
  {
   "cell_type": "code",
   "execution_count": 43,
   "metadata": {},
   "outputs": [],
   "source": [
    "import random\n",
    "import json\n",
    "import numpy as np\n",
    "from google.cloud import aiplatform\n",
    "from google.cloud import bigquery\n",
    "from google.api import httpbody_pb2\n",
    "\n",
    "def test_monitoring(df):\n",
    "\n",
    "    # gerando numeros aleatorios\n",
    "    randomlist = []\n",
    "    for i in range(0,df.shape[0]):\n",
    "        n = random.randint(-3, 5)\n",
    "        randomlist.append(n)\n",
    "    print(randomlist)\n",
    "\n",
    "    # Mudando a distribuicao\n",
    "    for col in df.columns.to_list():\n",
    "        df[col]=df.loc[:,str(col)]*randomlist\n",
    "    \n",
    "    # formantando os dados para pedicao teste\n",
    "    samples = df.to_dict(orient='records')\n",
    "    samples = [list(sample.values()) for sample in samples]\n",
    "\n",
    "    # Find the endpoint\n",
    "    for e in aiplatform.Endpoint.list():\n",
    "        if e.display_name.startswith('vertexai'): endpoint = e\n",
    "    \n",
    "    # Prediction service Client\n",
    "    client_options = {\"api_endpoint\": f\"{REGION}-aiplatform.googleapis.com\"}\n",
    "    predictor = aiplatform.gapic.PredictionServiceClient(client_options = client_options)\n",
    "\n",
    "    # Formatando o payload\n",
    "    instances = {\"instances\": samples, \"signature_name\":\"predict\"}\n",
    "    http_body = httpbody_pb2.HttpBody(data = json.dumps(instances).encode(\"utf-8\"), content_type=\"application/json\")\n",
    "\n",
    "    # Prediction\n",
    "    prediction = predictor.raw_predict(endpoint=endpoint.resource_name, http_body=http_body)\n",
    "\n",
    "    return json.loads(prediction.data)"
   ]
  },
  {
   "cell_type": "code",
   "execution_count": 53,
   "metadata": {},
   "outputs": [
    {
     "name": "stdout",
     "output_type": "stream",
     "text": [
      "[3, -3, 3, 3, -2, -3, 3, 2, 3, 2, 3, 3, 2, -2, 0, 2, 5, -1, -3, 3, -3, -2, 2, 2, 2, 2, -3, -1, 0, 3, 1, 2, 0, -2, 3, 1, 4, 3, -1, -1, -3, 5, 0, -1, -2, -1, -3, -3, -2, -1]\n"
     ]
    },
    {
     "data": {
      "text/plain": [
       "{'predictions': [1,\n",
       "  1,\n",
       "  1,\n",
       "  0,\n",
       "  1,\n",
       "  1,\n",
       "  1,\n",
       "  1,\n",
       "  1,\n",
       "  2,\n",
       "  0,\n",
       "  0,\n",
       "  1,\n",
       "  1,\n",
       "  1,\n",
       "  1,\n",
       "  2,\n",
       "  1,\n",
       "  2,\n",
       "  1,\n",
       "  1,\n",
       "  1,\n",
       "  0,\n",
       "  2,\n",
       "  1,\n",
       "  2,\n",
       "  2,\n",
       "  2,\n",
       "  1,\n",
       "  1,\n",
       "  1,\n",
       "  0,\n",
       "  1,\n",
       "  1,\n",
       "  2,\n",
       "  1,\n",
       "  2,\n",
       "  1,\n",
       "  0,\n",
       "  1,\n",
       "  1,\n",
       "  1,\n",
       "  1,\n",
       "  1,\n",
       "  1,\n",
       "  1,\n",
       "  1,\n",
       "  0,\n",
       "  1,\n",
       "  1]}"
      ]
     },
     "execution_count": 53,
     "metadata": {},
     "output_type": "execute_result"
    }
   ],
   "source": [
    "test_monitoring(df=sample)"
   ]
  },
  {
   "cell_type": "markdown",
   "metadata": {},
   "source": [
    "# Testing TFDV"
   ]
  },
  {
   "cell_type": "code",
   "execution_count": 1,
   "metadata": {},
   "outputs": [
    {
     "name": "stderr",
     "output_type": "stream",
     "text": [
      "2022-05-31 16:40:13.202403: W tensorflow/stream_executor/platform/default/dso_loader.cc:64] Could not load dynamic library 'libcudart.so.11.0'; dlerror: libcudart.so.11.0: cannot open shared object file: No such file or directory\n",
      "2022-05-31 16:40:13.202430: I tensorflow/stream_executor/cuda/cudart_stub.cc:29] Ignore above cudart dlerror if you do not have a GPU set up on your machine.\n"
     ]
    }
   ],
   "source": [
    "import tensorflow_data_validation as tfdv"
   ]
  },
  {
   "cell_type": "markdown",
   "metadata": {},
   "source": [
    "#### Dados de treino como dataframe"
   ]
  },
  {
   "cell_type": "code",
   "execution_count": 5,
   "metadata": {},
   "outputs": [],
   "source": [
    "# data client\n",
    "client = bigquery.Client(project=PROJECT)\n",
    "    \n",
    "# Coletando dados    \n",
    "table = f\"{PROJECT}.{DATASET}.{TABLE}\"\n",
    "\n",
    "data = (\n",
    "    client\n",
    "    .query(f\"SELECT * FROM `{table}` WHERE splits = 'TRAIN'\")\n",
    "    .result()\n",
    "    .to_dataframe()\n",
    ")\n",
    "\n",
    "data_train = data.drop('splits', axis=1)"
   ]
  },
  {
   "cell_type": "code",
   "execution_count": 9,
   "metadata": {},
   "outputs": [],
   "source": [
    "train_stats = tfdv.generate_statistics_from_dataframe(dataframe=data_train)"
   ]
  },
  {
   "cell_type": "code",
   "execution_count": 12,
   "metadata": {},
   "outputs": [
    {
     "data": {
      "text/html": [
       "<div>\n",
       "<style scoped>\n",
       "    .dataframe tbody tr th:only-of-type {\n",
       "        vertical-align: middle;\n",
       "    }\n",
       "\n",
       "    .dataframe tbody tr th {\n",
       "        vertical-align: top;\n",
       "    }\n",
       "\n",
       "    .dataframe thead th {\n",
       "        text-align: right;\n",
       "    }\n",
       "</style>\n",
       "<table border=\"1\" class=\"dataframe\">\n",
       "  <thead>\n",
       "    <tr style=\"text-align: right;\">\n",
       "      <th></th>\n",
       "      <th>Type</th>\n",
       "      <th>Presence</th>\n",
       "      <th>Valency</th>\n",
       "      <th>Domain</th>\n",
       "    </tr>\n",
       "    <tr>\n",
       "      <th>Feature name</th>\n",
       "      <th></th>\n",
       "      <th></th>\n",
       "      <th></th>\n",
       "      <th></th>\n",
       "    </tr>\n",
       "  </thead>\n",
       "  <tbody>\n",
       "    <tr>\n",
       "      <th>'SepalLengthCm'</th>\n",
       "      <td>FLOAT</td>\n",
       "      <td>required</td>\n",
       "      <td></td>\n",
       "      <td>-</td>\n",
       "    </tr>\n",
       "    <tr>\n",
       "      <th>'SepalWidthCm'</th>\n",
       "      <td>FLOAT</td>\n",
       "      <td>required</td>\n",
       "      <td></td>\n",
       "      <td>-</td>\n",
       "    </tr>\n",
       "    <tr>\n",
       "      <th>'PetalLengthCm'</th>\n",
       "      <td>FLOAT</td>\n",
       "      <td>required</td>\n",
       "      <td></td>\n",
       "      <td>-</td>\n",
       "    </tr>\n",
       "    <tr>\n",
       "      <th>'PetalWidthCm'</th>\n",
       "      <td>FLOAT</td>\n",
       "      <td>required</td>\n",
       "      <td></td>\n",
       "      <td>-</td>\n",
       "    </tr>\n",
       "    <tr>\n",
       "      <th>'Species'</th>\n",
       "      <td>INT</td>\n",
       "      <td>required</td>\n",
       "      <td></td>\n",
       "      <td>-</td>\n",
       "    </tr>\n",
       "  </tbody>\n",
       "</table>\n",
       "</div>"
      ],
      "text/plain": [
       "                  Type  Presence Valency Domain\n",
       "Feature name                                   \n",
       "'SepalLengthCm'  FLOAT  required              -\n",
       "'SepalWidthCm'   FLOAT  required              -\n",
       "'PetalLengthCm'  FLOAT  required              -\n",
       "'PetalWidthCm'   FLOAT  required              -\n",
       "'Species'          INT  required              -"
      ]
     },
     "metadata": {},
     "output_type": "display_data"
    }
   ],
   "source": [
    "schema = tfdv.infer_schema(train_stats)\n",
    "tfdv.display_schema(schema)"
   ]
  },
  {
   "cell_type": "code",
   "execution_count": 18,
   "metadata": {},
   "outputs": [
    {
     "data": {
      "text/html": [
       "<iframe id='facets-iframe' width=\"100%\" height=\"500px\"></iframe>\n",
       "        <script>\n",
       "        facets_iframe = document.getElementById('facets-iframe');\n",
       "        facets_html = '<script src=\"https://cdnjs.cloudflare.com/ajax/libs/webcomponentsjs/1.3.3/webcomponents-lite.js\"><\\/script><link rel=\"import\" href=\"https://raw.githubusercontent.com/PAIR-code/facets/master/facets-dist/facets-jupyter.html\"><facets-overview proto-input=\"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\"></facets-overview>';\n",
       "        facets_iframe.srcdoc = facets_html;\n",
       "         facets_iframe.id = \"\";\n",
       "         setTimeout(() => {\n",
       "           facets_iframe.setAttribute('height', facets_iframe.contentWindow.document.body.offsetHeight + 'px')\n",
       "         }, 1500)\n",
       "         </script>"
      ],
      "text/plain": [
       "<IPython.core.display.HTML object>"
      ]
     },
     "metadata": {},
     "output_type": "display_data"
    }
   ],
   "source": [
    "visualizer = tfdv.visualize_statistics(train_stats)"
   ]
  },
  {
   "cell_type": "code",
   "execution_count": null,
   "metadata": {},
   "outputs": [],
   "source": []
  },
  {
   "cell_type": "markdown",
   "metadata": {},
   "source": [
    "#### Dados Teste como dataframe"
   ]
  },
  {
   "cell_type": "code",
   "execution_count": 14,
   "metadata": {},
   "outputs": [],
   "source": [
    "# data client\n",
    "client = bigquery.Client(project=PROJECT)\n",
    "    \n",
    "# Coletando dados    \n",
    "table = f\"{PROJECT}.{DATASET}.{TABLE}\"\n",
    "\n",
    "data = (\n",
    "    client\n",
    "    .query(f\"SELECT * FROM `{table}` WHERE splits = 'TEST'\")\n",
    "    .result()\n",
    "    .to_dataframe()\n",
    ")\n",
    "\n",
    "data_test = data.drop('splits', axis=1)"
   ]
  },
  {
   "cell_type": "code",
   "execution_count": 24,
   "metadata": {},
   "outputs": [
    {
     "name": "stdout",
     "output_type": "stream",
     "text": [
      "Requirement already satisfied: tensorflow_metadata in /home/brunovn/projetos_gavb/produtos_digitais_template/venv/lib/python3.8/site-packages (1.8.0)\n",
      "Requirement already satisfied: protobuf<4,>=3.13 in /home/brunovn/projetos_gavb/produtos_digitais_template/venv/lib/python3.8/site-packages (from tensorflow_metadata) (3.19.4)\n",
      "Requirement already satisfied: googleapis-common-protos<2,>=1.52.0 in /home/brunovn/projetos_gavb/produtos_digitais_template/venv/lib/python3.8/site-packages (from tensorflow_metadata) (1.56.1)\n",
      "Requirement already satisfied: absl-py<2.0.0,>=0.9 in /home/brunovn/projetos_gavb/produtos_digitais_template/venv/lib/python3.8/site-packages (from tensorflow_metadata) (1.0.0)\n",
      "Requirement already satisfied: six in /home/brunovn/projetos_gavb/produtos_digitais_template/venv/lib/python3.8/site-packages (from absl-py<2.0.0,>=0.9->tensorflow_metadata) (1.16.0)\n",
      "\u001b[33mWARNING: You are using pip version 22.0.3; however, version 22.1.1 is available.\n",
      "You should consider upgrading via the '/home/brunovn/projetos_gavb/produtos_digitais_template/venv/bin/python -m pip install --upgrade pip' command.\u001b[0m\u001b[33m\n",
      "\u001b[0m"
     ]
    }
   ],
   "source": [
    "!pip install tensorflow_metadata"
   ]
  },
  {
   "cell_type": "code",
   "execution_count": 28,
   "metadata": {},
   "outputs": [
    {
     "data": {
      "text/html": [
       "<h4 style=\"color:green;\">No anomalies found.</h4>"
      ],
      "text/plain": [
       "<IPython.core.display.HTML object>"
      ]
     },
     "metadata": {},
     "output_type": "display_data"
    }
   ],
   "source": [
    "from tensorflow_metadata.proto.v0 import schema_pb2\n",
    "\n",
    "test_stats = tfdv.generate_statistics_from_dataframe(data_test)\n",
    "schema = tfdv.infer_schema(test_stats)\n",
    "\n",
    "tfdv.set_domain(schema, 'SepalLengthCm', schema_pb2.FloatDomain(name='SepalLengthCm', min=-12.1, max=4.9))\n",
    "\n",
    "anomalies = tfdv.validate_statistics(statistics=test_stats, schema=schema)\n",
    "tfdv.display_anomalies(anomalies)"
   ]
  },
  {
   "cell_type": "code",
   "execution_count": 29,
   "metadata": {},
   "outputs": [
    {
     "data": {
      "text/html": [
       "<div>\n",
       "<style scoped>\n",
       "    .dataframe tbody tr th:only-of-type {\n",
       "        vertical-align: middle;\n",
       "    }\n",
       "\n",
       "    .dataframe tbody tr th {\n",
       "        vertical-align: top;\n",
       "    }\n",
       "\n",
       "    .dataframe thead th {\n",
       "        text-align: right;\n",
       "    }\n",
       "</style>\n",
       "<table border=\"1\" class=\"dataframe\">\n",
       "  <thead>\n",
       "    <tr style=\"text-align: right;\">\n",
       "      <th></th>\n",
       "      <th>Type</th>\n",
       "      <th>Presence</th>\n",
       "      <th>Valency</th>\n",
       "      <th>Domain</th>\n",
       "    </tr>\n",
       "    <tr>\n",
       "      <th>Feature name</th>\n",
       "      <th></th>\n",
       "      <th></th>\n",
       "      <th></th>\n",
       "      <th></th>\n",
       "    </tr>\n",
       "  </thead>\n",
       "  <tbody>\n",
       "    <tr>\n",
       "      <th>'SepalLengthCm'</th>\n",
       "      <td>FLOAT</td>\n",
       "      <td>required</td>\n",
       "      <td></td>\n",
       "      <td>min: -12.100000; max: 4.900000</td>\n",
       "    </tr>\n",
       "    <tr>\n",
       "      <th>'SepalWidthCm'</th>\n",
       "      <td>FLOAT</td>\n",
       "      <td>required</td>\n",
       "      <td></td>\n",
       "      <td>-</td>\n",
       "    </tr>\n",
       "    <tr>\n",
       "      <th>'PetalLengthCm'</th>\n",
       "      <td>FLOAT</td>\n",
       "      <td>required</td>\n",
       "      <td></td>\n",
       "      <td>-</td>\n",
       "    </tr>\n",
       "    <tr>\n",
       "      <th>'PetalWidthCm'</th>\n",
       "      <td>FLOAT</td>\n",
       "      <td>required</td>\n",
       "      <td></td>\n",
       "      <td>-</td>\n",
       "    </tr>\n",
       "    <tr>\n",
       "      <th>'Species'</th>\n",
       "      <td>INT</td>\n",
       "      <td>required</td>\n",
       "      <td></td>\n",
       "      <td>-</td>\n",
       "    </tr>\n",
       "  </tbody>\n",
       "</table>\n",
       "</div>"
      ],
      "text/plain": [
       "                  Type  Presence Valency                          Domain\n",
       "Feature name                                                            \n",
       "'SepalLengthCm'  FLOAT  required          min: -12.100000; max: 4.900000\n",
       "'SepalWidthCm'   FLOAT  required                                       -\n",
       "'PetalLengthCm'  FLOAT  required                                       -\n",
       "'PetalWidthCm'   FLOAT  required                                       -\n",
       "'Species'          INT  required                                       -"
      ]
     },
     "metadata": {},
     "output_type": "display_data"
    }
   ],
   "source": [
    "tfdv.display_schema(schema)"
   ]
  },
  {
   "cell_type": "code",
   "execution_count": 30,
   "metadata": {},
   "outputs": [
    {
     "name": "stdout",
     "output_type": "stream",
     "text": [
      "[-3, -5, -4, -3, -5, -5, -4, -4, -5, -5, -2, -2, -4, -5, -4, -5]\n"
     ]
    }
   ],
   "source": [
    "def changing_df(df):\n",
    "\n",
    "    # gerando numeros aleatorios\n",
    "    randomlist = []\n",
    "    for i in range(0,df.shape[0]):\n",
    "        n = random.randint(-5, -2)\n",
    "        randomlist.append(n)\n",
    "    print(randomlist)\n",
    "\n",
    "    # Mudando a distribuicao\n",
    "    for col in df.columns.to_list():\n",
    "        df[col]=df.loc[:,str(col)]*randomlist\n",
    "    \n",
    "    return df\n",
    "\n",
    "new_data_test = changing_df(data_test)"
   ]
  },
  {
   "cell_type": "code",
   "execution_count": 31,
   "metadata": {},
   "outputs": [
    {
     "data": {
      "text/html": [
       "<div>\n",
       "<style scoped>\n",
       "    .dataframe tbody tr th:only-of-type {\n",
       "        vertical-align: middle;\n",
       "    }\n",
       "\n",
       "    .dataframe tbody tr th {\n",
       "        vertical-align: top;\n",
       "    }\n",
       "\n",
       "    .dataframe thead th {\n",
       "        text-align: right;\n",
       "    }\n",
       "</style>\n",
       "<table border=\"1\" class=\"dataframe\">\n",
       "  <thead>\n",
       "    <tr style=\"text-align: right;\">\n",
       "      <th></th>\n",
       "      <th>Anomaly short description</th>\n",
       "      <th>Anomaly long description</th>\n",
       "    </tr>\n",
       "    <tr>\n",
       "      <th>Feature name</th>\n",
       "      <th></th>\n",
       "      <th></th>\n",
       "    </tr>\n",
       "  </thead>\n",
       "  <tbody>\n",
       "    <tr>\n",
       "      <th>'SepalLengthCm'</th>\n",
       "      <td>Multiple errors</td>\n",
       "      <td>Unexpectedly low values: -23.9534&lt;-12.1(upto six significant digits) Unexpectedly high value: 44.349&gt;4.9(upto six significant digits)</td>\n",
       "    </tr>\n",
       "  </tbody>\n",
       "</table>\n",
       "</div>"
      ],
      "text/plain": [
       "                Anomaly short description  \\\n",
       "Feature name                                \n",
       "'SepalLengthCm'           Multiple errors   \n",
       "\n",
       "                                                                                                                              Anomaly long description  \n",
       "Feature name                                                                                                                                            \n",
       "'SepalLengthCm'  Unexpectedly low values: -23.9534<-12.1(upto six significant digits) Unexpectedly high value: 44.349>4.9(upto six significant digits)  "
      ]
     },
     "metadata": {},
     "output_type": "display_data"
    }
   ],
   "source": [
    "new_test_stats = tfdv.generate_statistics_from_dataframe(new_data_test)\n",
    "#schema = tfdv.infer_schema(new_test_stats)\n",
    "anomalies = tfdv.validate_statistics(statistics=new_test_stats, schema=schema)\n",
    "tfdv.display_anomalies(anomalies)"
   ]
  },
  {
   "cell_type": "markdown",
   "metadata": {},
   "source": [
    "#### Testando o loading dos stats"
   ]
  },
  {
   "cell_type": "code",
   "execution_count": 32,
   "metadata": {},
   "outputs": [],
   "source": [
    "import tensorflow_data_validation as tfdv\n",
    "\n",
    "\n",
    "stats = tfdv.load_stats_text(\"gs://test-bucket-vertexai/produtos-digitais-template/52716924283/produtos-digitais-teste-v9-20220601141739/generate-stats-component_-4719261686333177856/results\")"
   ]
  },
  {
   "cell_type": "code",
   "execution_count": 34,
   "metadata": {},
   "outputs": [
    {
     "data": {
      "text/html": [
       "<iframe id='facets-iframe' width=\"100%\" height=\"500px\"></iframe>\n",
       "        <script>\n",
       "        facets_iframe = document.getElementById('facets-iframe');\n",
       "        facets_html = '<script src=\"https://cdnjs.cloudflare.com/ajax/libs/webcomponentsjs/1.3.3/webcomponents-lite.js\"><\\/script><link rel=\"import\" href=\"https://raw.githubusercontent.com/PAIR-code/facets/master/facets-dist/facets-jupyter.html\"><facets-overview proto-input=\"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\"></facets-overview>';\n",
       "        facets_iframe.srcdoc = facets_html;\n",
       "         facets_iframe.id = \"\";\n",
       "         setTimeout(() => {\n",
       "           facets_iframe.setAttribute('height', facets_iframe.contentWindow.document.body.offsetHeight + 'px')\n",
       "         }, 1500)\n",
       "         </script>"
      ],
      "text/plain": [
       "<IPython.core.display.HTML object>"
      ]
     },
     "metadata": {},
     "output_type": "display_data"
    }
   ],
   "source": [
    "tfdv.visualizet_statistics(stats)"
   ]
  },
  {
   "cell_type": "code",
   "execution_count": null,
   "metadata": {},
   "outputs": [],
   "source": []
  }
 ],
 "metadata": {
  "interpreter": {
   "hash": "749e40b606625bb0c3425579147b49da7da3b1dc7431857946d8cd5b32b8cb13"
  },
  "kernelspec": {
   "display_name": "Python 3.8.10 ('venv': venv)",
   "language": "python",
   "name": "python3"
  },
  "language_info": {
   "codemirror_mode": {
    "name": "ipython",
    "version": 3
   },
   "file_extension": ".py",
   "mimetype": "text/x-python",
   "name": "python",
   "nbconvert_exporter": "python",
   "pygments_lexer": "ipython3",
   "version": "3.8.10"
  },
  "orig_nbformat": 4
 },
 "nbformat": 4,
 "nbformat_minor": 2
}
