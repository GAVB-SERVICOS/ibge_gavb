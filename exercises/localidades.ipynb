{
 "cells": [
  {
   "cell_type": "markdown",
   "id": "b2b9ac6d",
   "metadata": {},
   "source": [
    "### 1.0 Introdução\n",
    "\n",
    "O objetivo da feature é coletar os dados de geolocalidade da API de Localidades atualizando para a versão atualizada do python."
   ]
  },
  {
   "cell_type": "markdown",
   "id": "154cebd7",
   "metadata": {},
   "source": [
    "### 1.1 Importando os Módulos"
   ]
  },
  {
   "cell_type": "code",
   "execution_count": 1,
   "id": "88678c4e",
   "metadata": {},
   "outputs": [],
   "source": [
    "# para localidades\n",
    "from ibge.localidades import Regioes, Estados, Municipios, Municipio, MunicipioPorUF"
   ]
  },
  {
   "cell_type": "markdown",
   "id": "0f5c4743",
   "metadata": {},
   "source": [
    "### 1.2 Como utilizar"
   ]
  },
  {
   "cell_type": "markdown",
   "id": "08568b51",
   "metadata": {},
   "source": [
    "#### 1.2.1 Utilização das regiões"
   ]
  },
  {
   "cell_type": "code",
   "execution_count": 2,
   "id": "8cc91d45",
   "metadata": {},
   "outputs": [
    {
     "data": {
      "text/plain": [
       "5"
      ]
     },
     "execution_count": 2,
     "metadata": {},
     "output_type": "execute_result"
    }
   ],
   "source": [
    "dataRegiao = Regioes()\n",
    "dataRegiao.count()"
   ]
  },
  {
   "cell_type": "code",
   "execution_count": 3,
   "id": "fd532715",
   "metadata": {},
   "outputs": [
    {
     "data": {
      "text/plain": [
       "[{'id': 1, 'sigla': 'N', 'nome': 'Norte'},\n",
       " {'id': 2, 'sigla': 'NE', 'nome': 'Nordeste'},\n",
       " {'id': 3, 'sigla': 'SE', 'nome': 'Sudeste'},\n",
       " {'id': 4, 'sigla': 'S', 'nome': 'Sul'},\n",
       " {'id': 5, 'sigla': 'CO', 'nome': 'Centro-Oeste'}]"
      ]
     },
     "execution_count": 3,
     "metadata": {},
     "output_type": "execute_result"
    }
   ],
   "source": [
    "dataRegiao.json()"
   ]
  },
  {
   "cell_type": "code",
   "execution_count": 4,
   "id": "fafbc1f0",
   "metadata": {},
   "outputs": [
    {
     "data": {
      "text/plain": [
       "[1, 2, 3, 4, 5]"
      ]
     },
     "execution_count": 4,
     "metadata": {},
     "output_type": "execute_result"
    }
   ],
   "source": [
    "dataRegiao.getId()"
   ]
  },
  {
   "cell_type": "code",
   "execution_count": 5,
   "id": "bede2c64",
   "metadata": {},
   "outputs": [
    {
     "data": {
      "text/plain": [
       "['N', 'NE', 'SE', 'S', 'CO']"
      ]
     },
     "execution_count": 5,
     "metadata": {},
     "output_type": "execute_result"
    }
   ],
   "source": [
    "dataRegiao.getSigla()"
   ]
  },
  {
   "cell_type": "code",
   "execution_count": 6,
   "id": "9445d64d",
   "metadata": {},
   "outputs": [
    {
     "data": {
      "text/plain": [
       "['Norte', 'Nordeste', 'Sudeste', 'Sul', 'Centro-Oeste']"
      ]
     },
     "execution_count": 6,
     "metadata": {},
     "output_type": "execute_result"
    }
   ],
   "source": [
    "dataRegiao.getNome()"
   ]
  },
  {
   "cell_type": "markdown",
   "id": "c50edff5",
   "metadata": {},
   "source": [
    "#### 1.2.2 Utilização dos Estados"
   ]
  },
  {
   "cell_type": "code",
   "execution_count": 7,
   "id": "a2aca68f",
   "metadata": {},
   "outputs": [
    {
     "data": {
      "text/plain": [
       "27"
      ]
     },
     "execution_count": 7,
     "metadata": {},
     "output_type": "execute_result"
    }
   ],
   "source": [
    "dataEstados = Estados()\n",
    "dataEstados.count()"
   ]
  },
  {
   "cell_type": "code",
   "execution_count": 8,
   "id": "ca07761b",
   "metadata": {},
   "outputs": [
    {
     "data": {
      "text/plain": [
       "{'id': 12,\n",
       " 'sigla': 'AC',\n",
       " 'nome': 'Acre',\n",
       " 'regiao': {'id': 1, 'sigla': 'N', 'nome': 'Norte'}}"
      ]
     },
     "execution_count": 8,
     "metadata": {},
     "output_type": "execute_result"
    }
   ],
   "source": [
    "dataEstados.json()[1]"
   ]
  },
  {
   "cell_type": "code",
   "execution_count": 9,
   "id": "6e47c232",
   "metadata": {},
   "outputs": [
    {
     "data": {
      "text/plain": [
       "12"
      ]
     },
     "execution_count": 9,
     "metadata": {},
     "output_type": "execute_result"
    }
   ],
   "source": [
    "dataEstados.getId()[1]"
   ]
  },
  {
   "cell_type": "code",
   "execution_count": 10,
   "id": "ec18fadb",
   "metadata": {},
   "outputs": [
    {
     "data": {
      "text/plain": [
       "'AC'"
      ]
     },
     "execution_count": 10,
     "metadata": {},
     "output_type": "execute_result"
    }
   ],
   "source": [
    "dataEstados.getSigla()[1]"
   ]
  },
  {
   "cell_type": "code",
   "execution_count": 11,
   "id": "1ed5c27d",
   "metadata": {},
   "outputs": [
    {
     "data": {
      "text/plain": [
       "'Acre'"
      ]
     },
     "execution_count": 11,
     "metadata": {},
     "output_type": "execute_result"
    }
   ],
   "source": [
    "dataEstados.getNome()[1]"
   ]
  },
  {
   "cell_type": "markdown",
   "id": "4f44529d",
   "metadata": {},
   "source": [
    "#### 1.2.3 Utilização dos Municípios\n"
   ]
  },
  {
   "cell_type": "code",
   "execution_count": 12,
   "id": "272672da",
   "metadata": {},
   "outputs": [
    {
     "data": {
      "text/plain": [
       "5570"
      ]
     },
     "execution_count": 12,
     "metadata": {},
     "output_type": "execute_result"
    }
   ],
   "source": [
    "dataMunicipios = Municipios()\n",
    "dataMunicipios.count()"
   ]
  },
  {
   "cell_type": "code",
   "execution_count": 13,
   "id": "46ceb25c",
   "metadata": {},
   "outputs": [
    {
     "data": {
      "text/plain": [
       "{'id': 1100015,\n",
       " 'nome': \"Alta Floresta D'Oeste\",\n",
       " 'microrregiao': {'id': 11006,\n",
       "  'nome': 'Cacoal',\n",
       "  'mesorregiao': {'id': 1102,\n",
       "   'nome': 'Leste Rondoniense',\n",
       "   'UF': {'id': 11,\n",
       "    'sigla': 'RO',\n",
       "    'nome': 'Rondônia',\n",
       "    'regiao': {'id': 1, 'sigla': 'N', 'nome': 'Norte'}}}},\n",
       " 'regiao-imediata': {'id': 110005,\n",
       "  'nome': 'Cacoal',\n",
       "  'regiao-intermediaria': {'id': 1102,\n",
       "   'nome': 'Ji-Paraná',\n",
       "   'UF': {'id': 11,\n",
       "    'sigla': 'RO',\n",
       "    'nome': 'Rondônia',\n",
       "    'regiao': {'id': 1, 'sigla': 'N', 'nome': 'Norte'}}}}}"
      ]
     },
     "execution_count": 13,
     "metadata": {},
     "output_type": "execute_result"
    }
   ],
   "source": [
    "dataMunicipios.json()[0]"
   ]
  },
  {
   "cell_type": "code",
   "execution_count": 14,
   "id": "0ed0920a",
   "metadata": {},
   "outputs": [
    {
     "data": {
      "text/plain": [
       "1100015"
      ]
     },
     "execution_count": 14,
     "metadata": {},
     "output_type": "execute_result"
    }
   ],
   "source": [
    "dataMunicipios.getId()[0]"
   ]
  },
  {
   "cell_type": "code",
   "execution_count": 15,
   "id": "8dff13ca",
   "metadata": {},
   "outputs": [
    {
     "data": {
      "text/plain": [
       "\"Alta Floresta D'Oeste\""
      ]
     },
     "execution_count": 15,
     "metadata": {},
     "output_type": "execute_result"
    }
   ],
   "source": [
    "dataMunicipios.getNome()[0]"
   ]
  },
  {
   "cell_type": "code",
   "execution_count": 16,
   "id": "cbc02b09",
   "metadata": {},
   "outputs": [
    {
     "data": {
      "text/plain": [
       "'Rondônia'"
      ]
     },
     "execution_count": 16,
     "metadata": {},
     "output_type": "execute_result"
    }
   ],
   "source": [
    "dataMunicipios.getDescricaoUF()[0]"
   ]
  },
  {
   "cell_type": "code",
   "execution_count": 17,
   "id": "9d382518",
   "metadata": {},
   "outputs": [
    {
     "data": {
      "text/plain": [
       "'RO'"
      ]
     },
     "execution_count": 17,
     "metadata": {},
     "output_type": "execute_result"
    }
   ],
   "source": [
    "dataMunicipios.getSiglaUF()[0]"
   ]
  },
  {
   "cell_type": "code",
   "execution_count": 18,
   "id": "17954c87",
   "metadata": {},
   "outputs": [
    {
     "data": {
      "text/plain": [
       "{'ibge': 1100015, 'nome': \"Alta Floresta D'Oeste\", 'uf': 'RO'}"
      ]
     },
     "execution_count": 18,
     "metadata": {},
     "output_type": "execute_result"
    }
   ],
   "source": [
    "dataMunicipios.getDados()[0]"
   ]
  },
  {
   "cell_type": "markdown",
   "id": "665d24d1",
   "metadata": {},
   "source": [
    "#### 1.2.4 Utilização do Município Epecífico"
   ]
  },
  {
   "cell_type": "code",
   "execution_count": 19,
   "id": "cea4ca38",
   "metadata": {},
   "outputs": [
    {
     "data": {
      "text/plain": [
       "1"
      ]
     },
     "execution_count": 19,
     "metadata": {},
     "output_type": "execute_result"
    }
   ],
   "source": [
    "dataMunicipio = Municipio('5221858')\n",
    "dataMunicipio.count()"
   ]
  },
  {
   "cell_type": "code",
   "execution_count": 20,
   "id": "3582077a",
   "metadata": {},
   "outputs": [
    {
     "data": {
      "text/plain": [
       "{'id': 5221858,\n",
       " 'nome': 'Valparaíso de Goiás',\n",
       " 'microrregiao': {'id': 52012,\n",
       "  'nome': 'Entorno de Brasília',\n",
       "  'mesorregiao': {'id': 5204,\n",
       "   'nome': 'Leste Goiano',\n",
       "   'UF': {'id': 52,\n",
       "    'sigla': 'GO',\n",
       "    'nome': 'Goiás',\n",
       "    'regiao': {'id': 5, 'sigla': 'CO', 'nome': 'Centro-Oeste'}}}},\n",
       " 'regiao-imediata': {'id': 520019,\n",
       "  'nome': 'Luziânia',\n",
       "  'regiao-intermediaria': {'id': 5206,\n",
       "   'nome': 'Luziânia - Águas Lindas de Goiás',\n",
       "   'UF': {'id': 52,\n",
       "    'sigla': 'GO',\n",
       "    'nome': 'Goiás',\n",
       "    'regiao': {'id': 5, 'sigla': 'CO', 'nome': 'Centro-Oeste'}}}}}"
      ]
     },
     "execution_count": 20,
     "metadata": {},
     "output_type": "execute_result"
    }
   ],
   "source": [
    "dataMunicipio.json()"
   ]
  },
  {
   "cell_type": "code",
   "execution_count": 21,
   "id": "e18dd75d",
   "metadata": {},
   "outputs": [
    {
     "data": {
      "text/plain": [
       "'Valparaíso de Goiás'"
      ]
     },
     "execution_count": 21,
     "metadata": {},
     "output_type": "execute_result"
    }
   ],
   "source": [
    "dataMunicipio.getNome()"
   ]
  },
  {
   "cell_type": "code",
   "execution_count": 22,
   "id": "6dd426c8",
   "metadata": {},
   "outputs": [
    {
     "data": {
      "text/plain": [
       "5221858"
      ]
     },
     "execution_count": 22,
     "metadata": {},
     "output_type": "execute_result"
    }
   ],
   "source": [
    "dataMunicipio.getId()"
   ]
  },
  {
   "cell_type": "code",
   "execution_count": 23,
   "id": "3e0bd734",
   "metadata": {},
   "outputs": [
    {
     "data": {
      "text/plain": [
       "'GO'"
      ]
     },
     "execution_count": 23,
     "metadata": {},
     "output_type": "execute_result"
    }
   ],
   "source": [
    "dataMunicipio.getUF()"
   ]
  },
  {
   "cell_type": "code",
   "execution_count": 24,
   "id": "da013175",
   "metadata": {},
   "outputs": [
    {
     "data": {
      "text/plain": [
       "'Goiás'"
      ]
     },
     "execution_count": 24,
     "metadata": {},
     "output_type": "execute_result"
    }
   ],
   "source": [
    "dataMunicipio.getDescricaoUF()"
   ]
  },
  {
   "cell_type": "markdown",
   "id": "6dfa9606",
   "metadata": {},
   "source": [
    "#### 1.2.4 Utilização dos Municípios por UF"
   ]
  },
  {
   "cell_type": "code",
   "execution_count": 25,
   "id": "ef2f75c6",
   "metadata": {},
   "outputs": [
    {
     "data": {
      "text/plain": [
       "62"
      ]
     },
     "execution_count": 25,
     "metadata": {},
     "output_type": "execute_result"
    }
   ],
   "source": [
    "dataMunicipioPorUf = MunicipioPorUF('13')\n",
    "dataMunicipioPorUf.count()"
   ]
  },
  {
   "cell_type": "code",
   "execution_count": 26,
   "id": "ca0430cd",
   "metadata": {},
   "outputs": [
    {
     "data": {
      "text/plain": [
       "{'id': 1300029,\n",
       " 'nome': 'Alvarães',\n",
       " 'microrregiao': {'id': 13005,\n",
       "  'nome': 'Tefé',\n",
       "  'mesorregiao': {'id': 1303,\n",
       "   'nome': 'Centro Amazonense',\n",
       "   'UF': {'id': 13,\n",
       "    'sigla': 'AM',\n",
       "    'nome': 'Amazonas',\n",
       "    'regiao': {'id': 1, 'sigla': 'N', 'nome': 'Norte'}}}},\n",
       " 'regiao-imediata': {'id': 130005,\n",
       "  'nome': 'Tefé',\n",
       "  'regiao-intermediaria': {'id': 1302,\n",
       "   'nome': 'Tefé',\n",
       "   'UF': {'id': 13,\n",
       "    'sigla': 'AM',\n",
       "    'nome': 'Amazonas',\n",
       "    'regiao': {'id': 1, 'sigla': 'N', 'nome': 'Norte'}}}}}"
      ]
     },
     "execution_count": 26,
     "metadata": {},
     "output_type": "execute_result"
    }
   ],
   "source": [
    "dataMunicipioPorUf.json()[0]"
   ]
  },
  {
   "cell_type": "code",
   "execution_count": 27,
   "id": "f7ecbab2",
   "metadata": {},
   "outputs": [
    {
     "data": {
      "text/plain": [
       "1300029"
      ]
     },
     "execution_count": 27,
     "metadata": {},
     "output_type": "execute_result"
    }
   ],
   "source": [
    "dataMunicipioPorUf.getId()[0]"
   ]
  },
  {
   "cell_type": "code",
   "execution_count": 28,
   "id": "a094156e",
   "metadata": {},
   "outputs": [
    {
     "data": {
      "text/plain": [
       "'Alvarães'"
      ]
     },
     "execution_count": 28,
     "metadata": {},
     "output_type": "execute_result"
    }
   ],
   "source": [
    "dataMunicipioPorUf.getNome()[0]"
   ]
  },
  {
   "cell_type": "markdown",
   "id": "9e255989",
   "metadata": {},
   "source": [
    "### 2.0 Conclusão\n",
    "\n",
    "O framework foi atualizado e passa a ter o suporte para a nova versão do python, servindo de utilidade para a feature geo_location que pertence a lib Gumly.\n",
    "\n"
   ]
  },
  {
   "cell_type": "markdown",
   "id": "350f11f2",
   "metadata": {},
   "source": [
    "### Referencias\n",
    "\n"
   ]
  },
  {
   "cell_type": "markdown",
   "id": "f2ce00c2",
   "metadata": {},
   "source": [
    "[Api Localidades](https://servicodados.ibge.gov.br/api/docs/localidades)\n",
    "\n",
    "[ibge](https://github.com/leogregianin/ibge)\n"
   ]
  }
 ],
 "metadata": {
  "kernelspec": {
   "display_name": "Python 3 (ipykernel)",
   "language": "python",
   "name": "python3"
  },
  "language_info": {
   "codemirror_mode": {
    "name": "ipython",
    "version": 3
   },
   "file_extension": ".py",
   "mimetype": "text/x-python",
   "name": "python",
   "nbconvert_exporter": "python",
   "pygments_lexer": "ipython3",
   "version": "3.11.1"
  }
 },
 "nbformat": 4,
 "nbformat_minor": 5
}
